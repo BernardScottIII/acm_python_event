{
 "cells": [
  {
   "cell_type": "markdown",
   "metadata": {},
   "source": [
    "---\n",
    "title: ACM Python Programming Event\n",
    "author: University of Scranton ACM Student Chapter\n",
    "execute: \n",
    "  eval: false\n",
    "---\n",
    "\n",
    "# University of Scranton Association for Computing Machinery Student Chapter Python Programming Event\n",
    "\n",
    "## Table of Contents\n",
    "\n",
    "[The Basics](#the-basics)\n",
    "\n",
    "[Prerequisites](#prerequisites)\n",
    "\n",
    "[Classes and Objects](#classes-and-objects)\n",
    "\n",
    "[Libraries](#libraries)\n",
    "\n",
    "[Compilation vs. Interpretation](#compilation-vs-interpretation)\n",
    "\n",
    "## Background\n",
    "\n",
    "Python is an interpreted programming language, meaning that every line of any given file is read and immediately executed, as opposed to being compiled to an intermediate format before execution. It features numerous components of other modern programming languages including dynamic typing, high-level data types, object-orientation, and classes. Its simple syntax and numerous third party libraries are what make the language powerful and versatile.\n",
    "\n",
    "The optimizations and features found in python has made it a popular choice for programmers and companies, including Dropbox, Instagram, Spotify, and Reddit, who want to embrace object-oriented programming without the complicated \"boilerplate\" which comes with other popular object-oriented programming languages. A good portion of the optimizations which python offers comes from it's \"built-ins\", or built-in utility functions. Python's built-ins are written in C, which means you can expect C-like performance when you run your code (unless your code is slow).\n",
    "\n",
    "### Prerequisites\n",
    "\n",
    "If you don't have python, you can download it for your system [here](https://www.python.org/downloads/). Python files are created and saved with the `.py` extension. Once installed, you should be able to configure python to work with your IDE of choice, if any configuration is needed.\n",
    "\n",
    "This tutorial and solution files are available in [this GitHub repository](https://github.com/BernardScottIII/acm_python_event). \n",
    "\n",
    "^^ This should be displayed with GitHub Pages or other free static-website software!\n",
    "\n",
    "### The Basics\n",
    "\n",
    "#### Variables and Data Types\n",
    "\n",
    "To start things off, python has several primitive types built-in to the language upon install, including `int`, `float`, `bool` (boolean), and `str`. The two numeric types support \"mixed arithmetic\", meaning python will perform the mathematical operation you desire, and give you a result. Type conversion will be discussed in a later section.\n",
    "\n",
    "Python is lenient with what you can name variables. The only officially enforced convention is that names with only capital letters are immutable constants. However, the python community has introduced best practices and guidelines for styling python code, which is known as the Python Enhancement Proposal (PEP) series. The current version, PEP 8, stipulates that variables should be all lowercase with words separated by underscores, as shown below."
   ]
  },
  {
   "cell_type": "code",
   "execution_count": 1,
   "metadata": {},
   "outputs": [],
   "source": [
    "x = 10\n",
    "argument_variable_ = \"My Variable\"\n",
    "variable_12345 = False\n",
    "PI = 3.14\n",
    "3l3ctr1c_C1ty = 6.28 # <- Invalid!"
   ]
  },
  {
   "cell_type": "markdown",
   "metadata": {},
   "source": [
    "Here are more advanced data types that are built directly into python.\n",
    "\n",
    "Tuples are cool because of caching!"
   ]
  },
  {
   "cell_type": "code",
   "execution_count": null,
   "metadata": {},
   "outputs": [],
   "source": [
    "my_list = [10, 20, 30]\n",
    "my_dictionary = {\n",
    "    \"Key 1\": \"Value 1\",\n",
    "    \"Key 2\": \"Value 2\",\n",
    "    }\n",
    "my_tuple = (1.11, 2.22, 3.33)"
   ]
  },
  {
   "cell_type": "markdown",
   "metadata": {},
   "source": [
    "#### Useful Type Conversions\n",
    "\n",
    "Python has a select handful of operations where the type of the operands will automatically be converted to a different data type. Supported type conversions apply only to arithmetic operations and the modulus operation."
   ]
  },
  {
   "cell_type": "code",
   "execution_count": 12,
   "metadata": {},
   "outputs": [
    {
     "name": "stdout",
     "output_type": "stream",
     "text": [
      "my_number = 3\n",
      "The data type of my_number is: <class 'int'>\n",
      "sum_to_pi = 3.14\n",
      "The data type of sum_to_pi is: <class 'float'>\n",
      "quotent = 0.6\n",
      "The data type of quotent is: <class 'float'>\n",
      "remainder = 1.4000000000000057\n",
      "The data type of remainder is: <class 'float'>\n"
     ]
    }
   ],
   "source": [
    "my_number = 3\n",
    "print(\"my_number = \" + my_number)\n",
    "print(\"The data type of my_number is: \" + type(my_number))\n",
    "\n",
    "sum_to_pi = my_number + 0.14\n",
    "print(\"sum_to_pi = \" + sum_to_pi)\n",
    "print(\"The data type of sum_to_pi is: \" + type(sum_to_pi))\n",
    "\n",
    "quotent = 3/5\n",
    "print(\"quotent = \" + quotent)\n",
    "print(\"The data type of quotent is: \" + type(quotent))\n",
    "\n",
    "remainder = 67%16.4\n",
    "print(\"remainder = \" + remainder)\n",
    "print(\"The data type of remainder is: \" + type(remainder))"
   ]
  },
  {
   "cell_type": "markdown",
   "metadata": {},
   "source": [
    "#### Elementary I/O\n",
    "\n",
    "The most common way for programmers to debug their programs is to use print statements, and a lot of them! Like many other features of the language, python's `print()` statements are easy to use and contain great functionality. By default, all `print()` statements will write the value of their first argument to the terminal. Programmers can use `print()` statements with any object that has a `__repr__()` function, a.k.a. python's toString(). A common use of `print()` statements involves the use of formatted string literals, or f-strings for short. F-strings allow the programmer to write expressions within a string using `{}`. Writing strings this way improves the readability of one's code and is convienent for the programmer."
   ]
  },
  {
   "cell_type": "code",
   "execution_count": 14,
   "metadata": {},
   "outputs": [
    {
     "name": "stdout",
     "output_type": "stream",
     "text": [
      "This text appears in the terminal!\n",
      "The value of my temporary variable is: 32\n",
      "The value of temp_var after modification is: 50\n"
     ]
    }
   ],
   "source": [
    "print(\"This text appears in the terminal!\")\n",
    "\n",
    "name = \"Chris\"\n",
    "print(\"My name is: \" + name)\n",
    "\n",
    "temp_var = 32\n",
    "print(f\"The value of my temporary variable is: {temp_var}\")\n",
    "\n",
    "temp_var += 18\n",
    "print(f\"The value of temp_var after modification is: {temp_var}\")"
   ]
  },
  {
   "cell_type": "markdown",
   "metadata": {},
   "source": [
    "#### Running a python program\n",
    "\n",
    "To run your python file, open a terminal and navigate to the directory the file is stored in, then simply type `python` _`filename`_`.py` and press enter.\n",
    "\n",
    "#### Flow Control\n",
    "\n",
    "Like any programming language, python features several types of flow control, most notably `for` and `while` loops. `for` loops in python are unique in the sense that their syntax is more conducive to iterating through an entire list, as opposed to executing a specified number of times. \n",
    "\n",
    "For loops have three main parts: the `for` keyword, the loop variable (`item`), and an iterable (`menu_items`). An iterable is simply any data structure which can return one element at a time (lists, dicts, tuples, etc.)."
   ]
  },
  {
   "cell_type": "code",
   "execution_count": 3,
   "metadata": {},
   "outputs": [
    {
     "name": "stdout",
     "output_type": "stream",
     "text": [
      "Burger\n",
      "Fries\n",
      "Chicken Sandwich\n",
      "Pizza\n",
      "Cola\n",
      "for-loop completed!\n",
      "15\n",
      "14\n",
      "13\n",
      "12\n",
      "11\n",
      "10\n",
      "9\n",
      "8\n",
      "7\n",
      "6\n",
      "5\n",
      "4\n",
      "3\n",
      "2\n",
      "1\n",
      "while loop completed\n"
     ]
    }
   ],
   "source": [
    "menu_items = [\"Burger\", \"Fries\", \"Chicken Sandwich\", \"Pizza\", \"Cola\"]\n",
    "\n",
    "for item in menu_items:\n",
    "    print(item)\n",
    "print(\"for-loop completed!\")\n",
    "\n",
    "# introduce range, then list(range) then use range in a for loop\n",
    "# Python can create things which provide things to you in repeated calls\n",
    "\n",
    "my_control_variable = 15\n",
    "while my_control_variable > 0:\n",
    "    print(my_control_variable)\n",
    "    my_control_variable -= 1\n",
    "print(\"while loop completed\")"
   ]
  },
  {
   "cell_type": "markdown",
   "metadata": {},
   "source": [
    "##### Indentation\n",
    "\n",
    "An integral part of programming in python is understanding indentation. Python uses indentation to distinguish which lines of code belong to which containers (\"blocks\" of code belong to different loops, functions, classes, etc.). Python only requires that the programmer be _consistent_ with their indentation throughout the program, using any amount of space per indentation they desire. However, it is best practice to use 4 spaces to indent your code to signify that it is part of a function or loop."
   ]
  },
  {
   "cell_type": "code",
   "execution_count": 31,
   "metadata": {},
   "outputs": [
    {
     "name": "stdout",
     "output_type": "stream",
     "text": [
      "0s, y_pos: 28.0\n",
      "1s, y_pos: 18.189999999999998\n",
      "2s, y_pos: -1.4300000000000033\n",
      "3s, y_pos: -30.860000000000003\n",
      "4s, y_pos: -70.10000000000001\n",
      "5s, y_pos: -119.15\n",
      "6s, y_pos: -178.01\n",
      "7s, y_pos: -246.68\n",
      "8s, y_pos: -325.16\n",
      "9s, y_pos: -413.45000000000005\n"
     ]
    }
   ],
   "source": [
    "# These variables can be accessed by every loop in the program\n",
    "y_pos = 28\n",
    "GRAVITY = 9.81\n",
    "\n",
    "# The statements within this while loop can access the two above variables\n",
    "time = 0\n",
    "\n",
    "while time < 10:\n",
    "\n",
    "    # Variable inside a while loop can access the global constant and variable\n",
    "    y_pos -= ( GRAVITY * time )\n",
    "    \n",
    "    print(f\"{time}s, y_pos: {y_pos}\")\n",
    "\n",
    "    # The loop can modify the global variables it has access to\n",
    "    time += 1"
   ]
  },
  {
   "cell_type": "markdown",
   "metadata": {},
   "source": [
    "#### if-statements\n",
    "\n",
    "If-statements allow programmers to evaluate conditions and execute code based on the result of the evaluation. Instead of writing out \"else if\", python shortens it into one reserved word, `elif` (else-if). It is important to note that python's `boolean` values are capitalized, a convention not found in many other languages. \n",
    "\n",
    "While writing a program, if the programmer is uncertain about what to put in a code block, such as the \"then\" part of the if-statement, they can use the `pass` keyword. `pass` is a placeholder term which is ignored by the interpreter and will allow the program to continue normally despite having \"empty\" if-statements."
   ]
  },
  {
   "cell_type": "code",
   "execution_count": 21,
   "metadata": {},
   "outputs": [
    {
     "name": "stdout",
     "output_type": "stream",
     "text": [
      "Status is 2. Performing an action!\n"
     ]
    }
   ],
   "source": [
    "status = 2\n",
    "\n",
    "if status == 0:\n",
    "    print(\"There is no status\")\n",
    "elif status == 1:\n",
    "    print(\"Status equal to 1. We're online!\")\n",
    "elif status == 2:\n",
    "    print(\"Status is 2. Performing an action!\")\n",
    "elif status == 3:\n",
    "    # Status of 3 is important, but I don't know what to do in that case yet.\n",
    "    pass\n",
    "else:\n",
    "    print(f\"Unexpected status of: {status}\")\n",
    "\n"
   ]
  },
  {
   "cell_type": "markdown",
   "metadata": {},
   "source": [
    "#### Functions\n",
    "\n",
    "Functions are used when you are doing pretty much the same thing on several different lines within your program. Putting those repeated lines into a single function makes writing programs much easier, reduces the likelyhood of errors, and improves the readability of your programs. Here, indentation is key in letting python know which lines of code belong to the function, and which don't. "
   ]
  },
  {
   "cell_type": "code",
   "execution_count": 23,
   "metadata": {},
   "outputs": [
    {
     "name": "stdout",
     "output_type": "stream",
     "text": [
      "fizzfizz\n",
      "buzzfizz\n"
     ]
    }
   ],
   "source": [
    "# Function which adds the word \"fizz\" to any string passed to it\n",
    "def append_fizz(text):\n",
    "    # These lines (and this comment) are part of append_fizz()\n",
    "    text += \"fizz\"\n",
    "    return text\n",
    "\n",
    "# These lines are NOT part of append_fizz()\n",
    "first_string = \"fizz\"\n",
    "second_string = \"buzz\"\n",
    "\n",
    "print(append_fizz(first_string))\n",
    "print(append_fizz(second_string))"
   ]
  },
  {
   "cell_type": "markdown",
   "metadata": {},
   "source": [
    "#### Debugging/Troubleshooting with the terminal\n",
    "\n",
    "Useful note: you can quickly write and run python code in the terminal/cli by typing `python`. After you enter that command, you'll be brought to a python editor completely within the terminal/command line interface!"
   ]
  },
  {
   "cell_type": "code",
   "execution_count": null,
   "metadata": {
    "vscode": {
     "languageId": "powershell"
    }
   },
   "outputs": [],
   "source": [
    "$ python\n",
    ">>>print(\"Hello Scranton!\")\n",
    "Hello Scranton!\n",
    ">>> ^Z # <- how to exit the editor\n",
    "$"
   ]
  },
  {
   "cell_type": "markdown",
   "metadata": {},
   "source": [
    "### Classes and Objects\n",
    "\n",
    "Objects are implemented in a similar fashion to Java, where one would create a class, ideally within its own `.py` file, for a single object. Every class contains a constructor, the `__init__()` function. This function must take the argument `self` to declare and instantiate instance variables. Assignment of instance variables takes place completely within the `__init__()` function. Python does not allow for the declaration of multiple constructors, (insert reasoning). However, you can supply default arguments to the lone constructor, which may or may not be used upon invoking the constructor.\n"
   ]
  },
  {
   "cell_type": "code",
   "execution_count": null,
   "metadata": {},
   "outputs": [],
   "source": [
    "# No need to copy! For illustration purposes only.\n",
    "\n",
    "# Class definition\n",
    "class MyExampleClass:\n",
    "\n",
    "    # Class Constructor\n",
    "    def __init__(self):\n",
    "        self.my_instance_variable = 10\n",
    "        self.another_instance_variable = \"Instance String\"\n",
    "    \n",
    "    # Example method belonging to the class\n",
    "    def example_observer_method(self):\n",
    "        return self.my_instance_variable"
   ]
  },
  {
   "cell_type": "markdown",
   "metadata": {},
   "source": [
    "Create a simple object in a new file named `rectangle.py` and do things with it"
   ]
  },
  {
   "cell_type": "code",
   "execution_count": null,
   "metadata": {},
   "outputs": [],
   "source": [
    "class Rectangle:\n",
    "    def __init__(self, height, width):\n",
    "        self.height = height\n",
    "        self.width = width\n",
    "        self.perimeter = ( 2 * height ) + ( 2 * width )\n",
    "        self.area = height * width\n",
    "\n",
    "    def get_height(self):\n",
    "        return self.height\n",
    "    \n",
    "    def get_width(self):\n",
    "        return self.width\n",
    "    \n",
    "    def get_perimeter(self):\n",
    "        # STUB\n",
    "    \n",
    "    def get_area(self):\n",
    "        # STUB"
   ]
  },
  {
   "cell_type": "markdown",
   "metadata": {},
   "source": [
    "You can do what you'd typically expect you can do with objects, including passing them to and from functions"
   ]
  },
  {
   "cell_type": "code",
   "execution_count": null,
   "metadata": {},
   "outputs": [],
   "source": [
    "# If this notebook is restarted, RE-RUN the previous code block so the notebook knows what the Rectangle class is!\n",
    "\n",
    "import math\n",
    "\n",
    "rectangle_1 = Rectangle(3, 4)\n",
    "rectangle_2 = Rectangle(5, 12)\n",
    "\n",
    "def calc_diagonal(rectangle):\n",
    "    height = # STUB\n",
    "    width = # STUB\n",
    "\n",
    "    return math.sqrt( ( height ** 2 )  + ( width ** 2 ) )\n",
    "\n",
    "print(calc_diagonal(rectangle_1))\n",
    "print(calc_diagonal(rectangle_2))"
   ]
  },
  {
   "cell_type": "markdown",
   "metadata": {},
   "source": [
    "It is typical to have multiple files, each with a single object/class so other programmers can read and understand what you wrote\n",
    "\n",
    "Python also has traditional features of a class like inheritance although it is used less due to Duck typing"
   ]
  },
  {
   "cell_type": "code",
   "execution_count": null,
   "metadata": {},
   "outputs": [],
   "source": [
    "class Number:\n",
    "    def __init__(self,value):\n",
    "        self.x = value\n",
    "    def get(self):\n",
    "        pass\n",
    "    def __str__(self):\n",
    "        return str(\"{}:\\n{}\".format(type(self).__name__))"
   ]
  },
  {
   "cell_type": "markdown",
   "metadata": {},
   "source": [
    "#### Duck Typing\n",
    "\n",
    "```\n",
    "    If it walks like a duck and it quacks like a duck, then it must be a duck.\n",
    "    -Source Unknown (The Internet Probably)\n",
    "```\n",
    "\n",
    "Python makes use of so called Duck typing. Essentially meaning that if the object which is passed to a given method has all of the method's attributes which are used, then it is considered compatible with a given type. This means that in order for something to be deemed compatible with a given type, they just need to implement all of the methods which are used by the given code. Additionally, since python code is interpreted, the type of a given object is evaluated at the time of interpretation.This means that if there is a typo in your code for a given method attribute, it is likely that your code will not produce an error until it reaches that attribute."
   ]
  },
  {
   "cell_type": "code",
   "execution_count": null,
   "metadata": {},
   "outputs": [],
   "source": [
    "class CompressedList:\n",
    "    def __init__(self):\n",
    "        self.clist = []\n",
    "        self.len = 0\n",
    "    def append(self,item):\n",
    "        self.len += 1\n",
    "        if len(self.clist) == 0 or not self.clist[-1][0] == item:\n",
    "            self.clist.append([item,1])\n",
    "        else:\n",
    "            self.clist[-1][1] += 1\n",
    "    def remove(self):\n",
    "        self.len -= 1\n",
    "        if self.clist[-1][1] == 1:\n",
    "            item = self.clist[-1][0]\n",
    "            self.clist.pop(-1)\n",
    "            return item\n",
    "        else:\n",
    "            self.clist[-1][1] -= 1\n",
    "    def __getitem__(self, index):\n",
    "        current_index = 0\n",
    "        last_item = None\n",
    "        for item in self.clist:\n",
    "            last_item = item[0]\n",
    "            current_index += item[1]\n",
    "            if current_index > index:\n",
    "                return last_item\n",
    "    def __len__(self):\n",
    "        return self.len\n",
    "    def __getattr__(self,attr):\n",
    "        print(attr)\n",
    "        return getattr(self.get())\n",
    "    def __str__(self):\n",
    "        if len(self.clist) == 0:\n",
    "            return \"[]\"\n",
    "        s = \"[\"\n",
    "        for item in self.clist:\n",
    "            s+= \", \".join([str(item[0])]*item[1]) + \", \"\n",
    "        return s[:-2] + \"]\"\n",
    "\n",
    "def list_test(list_object):\n",
    "    compare_list = list_object()\n",
    "    ref_list = list()\n",
    "    for a in [42,42,56,12,12,12,56]:\n",
    "        compare_list.append(a)\n",
    "        ref_list.append(a)\n",
    "\n",
    "    print(\"comparing:\")\n",
    "    print(compare_list)\n",
    "    print(ref_list)\n",
    "    for index in range(len(compare_list)):\n",
    "        if ref_list[index] != compare_list[index]:\n",
    "            return False\n",
    "\n",
    "    return True\n",
    "    \n",
    "\n",
    "print(list_test(CompressedList))"
   ]
  },
  {
   "cell_type": "markdown",
   "metadata": {},
   "source": [
    "### Libraries\n",
    "\n",
    "Thanks to the extensive community support, python has a vast suite of libraries which implement all sorts of functionality which allows python to be used in a variety of applications! This community support is one of the main reasons that it has become so popular!\n",
    "\n",
    "Python libraries can be written in languages other than python, including C, Rust, and C++.\n",
    "\n",
    "Since many popular libraries are created by third parties, they are not installed automatically with your installation of python. If you installed python from [python.org](https://www.python.org/downloads/), then `pip` (Preffered Installer Program) will be installed with python. `pip` can install packages from `PyPI` (The Python Package Index), where most third-party packages are available.\n",
    "\n",
    "Mention Anaconda python distro and Conda package manager\n",
    "\n",
    "To install your first packages, run these two commands in your terminal/cli!"
   ]
  },
  {
   "cell_type": "code",
   "execution_count": null,
   "metadata": {
    "vscode": {
     "languageId": "powershell"
    }
   },
   "outputs": [],
   "source": [
    "$ pip install requests\n",
    "$ pip install beautifulsoup4"
   ]
  },
  {
   "cell_type": "markdown",
   "metadata": {},
   "source": [
    "#### `requests` and Beautiful Soup (`bs4`)\n",
    "These two libraries are essential for getting and displaying data to and from websites."
   ]
  },
  {
   "cell_type": "code",
   "execution_count": null,
   "metadata": {},
   "outputs": [],
   "source": [
    "import requests\n",
    "\n",
    "us_debt_apr = requests.get(\"https://api.fiscaldata.treasury.gov/services/api/fiscal_service/v2/accounting/od/debt_to_penny?fields=record_calendar_year,record_calendar_month,record_calendar_day,tot_pub_debt_out_amt&filter=record_calendar_year:eq:2024,record_calendar_month:eq:04&sort=-record_calendar_day\")\n",
    "\n",
    "print(us_debt_apr)\n",
    "print(us_debt_apr.json())\n",
    "print(us_debt_apr.json()[\"data\"])\n",
    "print(us_debt_apr.json()[\"data\"][0])\n",
    "print(us_debt_apr.json()[\"data\"][0][\"tot_pub_debt_out_amt\"])\n",
    "\n",
    "from bs4 import BeautifulSoup\n",
    "\n",
    "response = requests.get(\"https://en.wikipedia.org/wiki/Web_scraping\")\n",
    "\n",
    "print(response.content)\n",
    "\n",
    "soup = BeautifulSoup(response.content, \"html.parser\")\n",
    "\n",
    "print(soup.title)"
   ]
  },
  {
   "cell_type": "markdown",
   "metadata": {},
   "source": [
    "_If you're interested in working with fiscal data from the U.S. Treasury, refer to the API documentation [here](https://fiscaldata.treasury.gov/api-documentation/)._\n",
    "\n",
    "#### `statistics`\n",
    "\n",
    "`Standard library, no download necessary!`\n",
    "\n",
    "The statistics library is very useful for business-oriented applications. It has tremendous functionality including being able to produce a linear regression and covariance."
   ]
  },
  {
   "cell_type": "code",
   "execution_count": null,
   "metadata": {},
   "outputs": [],
   "source": [
    "import statistics\n",
    "\n",
    "# put this data in a csv\n",
    "# use zip()\n",
    "\n",
    "us_debt = requests.get(\"https://api.fiscaldata.treasury.gov/services/api/fiscal_service/v2/accounting/od/debt_to_penny?fields=record_calendar_year,record_calendar_month,record_calendar_day,tot_pub_debt_out_amt&sort=-record_calendar_day\")\n",
    "\n",
    "debt_vals = []\n",
    "\n",
    "for month in us_debt.json()[\"data\"]:\n",
    "    debt_vals.append(float(month[\"tot_pub_debt_out_amt\"]))\n",
    "\n",
    "print(debt_vals)\n",
    "print(statistics.mean(debt_vals))\n",
    "print(statistics.stdev(debt_vals))"
   ]
  },
  {
   "cell_type": "markdown",
   "metadata": {},
   "source": [
    "#### `numpy` and `matplotlib`"
   ]
  },
  {
   "cell_type": "code",
   "execution_count": null,
   "metadata": {
    "vscode": {
     "languageId": "powershell"
    }
   },
   "outputs": [],
   "source": [
    "$ pip install numpy\n",
    "$ pip install matplotlib"
   ]
  },
  {
   "cell_type": "markdown",
   "metadata": {},
   "source": [
    "Two libraries essential for research applications. `numpy` provides support for high-order arrays and greatly optimizes large matrix operations. `matplotlib` works well with `numpy` and is used for visual representation of data."
   ]
  },
  {
   "cell_type": "code",
   "execution_count": null,
   "metadata": {},
   "outputs": [],
   "source": [
    "import numpy as np\n",
    "import matplotlib.pyplot as plt\n",
    "\n",
    "time = np.arange(len(debt_vals))\n",
    "\n",
    "# print(time)\n",
    "\n",
    "slope, intercept = np.polyfit(time,debt_vals,1)\n",
    "\n",
    "# print(slope, intercept)\n",
    "\n",
    "poly1d_fn = np.poly1d((slope, intercept)) \n",
    "\n",
    "plt.plot(time, debt_vals,'bo',poly1d_fn(time), '--k')"
   ]
  },
  {
   "cell_type": "markdown",
   "metadata": {},
   "source": [
    "### Compilation vs. Interpretation\n",
    "\n",
    "Contrary to many other programming languages Python is interpreted not compiled. This means that all python code is translated into machine code at run time as opposed to needing to go through a pre compilation step.\n",
    "\n",
    "#### Compilation\n",
    "\n",
    "Compilation means that code is translated from the native programming language to machine code either to be ran on the actual CPU or in java's case on a JVM. The benefit of using languages which are compiled is that they often lead to greater performance since the code can be compiled at run time and in multiple steps. Code needs to be compiled for a particular CPU architecture in order for it to be compatible and there is often a few different options for compilers. Another benefit of compilers is that they allow for code obsucation. This means that the source code does not need to be distributed to the end user which can make it more difficult for the end user to modify its function and reverse engineer how it works.\n",
    "\n",
    "#### Interpretation\n",
    "\n",
    "Interpolation means that code is essentially interpreted at runtime as opposed to being compiled at compiled time. Languages which use this technique are often slower as they must wait on this interpretation step to be completed before they are able to be executed. However, when a programming language is interpreted it allows greater flexability like in pythons case allowing functions to be declared dynamically at runtime. To the average user an interpreted language like python might behave very similar to lower level compiled programming languages like C and Java but under the hood it behaves differently.\n",
    "\n",
    "#### Example"
   ]
  },
  {
   "cell_type": "code",
   "execution_count": null,
   "metadata": {},
   "outputs": [],
   "source": [
    "class DictToObject(Storage):\n",
    "    def __init__(self,dct):\n",
    "        self.dict = dct\n",
    "    def __getattr__(self, name):\n",
    "        return self.dict[name]\n",
    "def remove_spaces(string):\n",
    "    return string.replace(\" \",\"\")\n",
    "DTO = DictToObject({\n",
    "    \"value\":42,\n",
    "    \"method\": remove_spaces\n",
    "})\n",
    "print(DTO.value)\n",
    "print(DTO.method(\"Hello World Spaces!\"))"
   ]
  },
  {
   "cell_type": "markdown",
   "metadata": {},
   "source": [
    "#### Performance\n",
    "_for performance reasons_\n",
    "\n",
    "## Wrap-Up\n",
    "if you want us to continue these sessions, in either the same language or a different language, please let us know in a survey"
   ]
  }
 ],
 "metadata": {
  "kernelspec": {
   "display_name": "Python 3",
   "language": "python",
   "name": "python3"
  },
  "language_info": {
   "codemirror_mode": {
    "name": "ipython",
    "version": 3
   },
   "file_extension": ".py",
   "mimetype": "text/x-python",
   "name": "python",
   "nbconvert_exporter": "python",
   "pygments_lexer": "ipython3",
   "version": "3.11.3"
  }
 },
 "nbformat": 4,
 "nbformat_minor": 2
}
