{
 "cells": [
  {
   "cell_type": "markdown",
   "metadata": {},
   "source": [
    "# University of Scranton Association for Computing Machinery Student Chapter Python Programming Event\n",
    "\n",
    "## Table of Contents\n",
    "[The Basics](#the-basics)\n",
    "\n",
    "[Classes and Objects](#classes-and-objects)\n",
    "\n",
    "[Libraries](#libraries)\n",
    "\n",
    "[Compilation vs. Interpretation](#compilation-vs-interpretation)"
   ]
  },
  {
   "cell_type": "markdown",
   "metadata": {},
   "source": [
    "## Background\n",
    "\n",
    "Duck programming\n",
    "\n",
    "Dropbox, Instagram, Spotify, and Reddit just to name a few\n",
    "\n",
    "Interpreted language (insert definition) compiled & executed at runtime\n",
    "\n",
    "Object-Oriented\n",
    "\n",
    "Many builtins are written in C, which means you can expect C-like performance when you run your code (unless your code is slow)"
   ]
  },
  {
   "cell_type": "markdown",
   "metadata": {},
   "source": [
    "### The Basics\n",
    "\n",
    "Python is a dynamically typed language that does the thing\n",
    "Maybe talk about duck programming here.\n",
    "\n",
    "Here is an example of primitive types.\n",
    "\n",
    "You can (should) statically type variables for improved readability. Doubles aren't a thing\n",
    "\n",
    "Interpreter will automatically convert types if possible???"
   ]
  },
  {
   "cell_type": "code",
   "execution_count": null,
   "metadata": {},
   "outputs": [],
   "source": [
    "x = 10\n",
    "y = \"My Variable\"\n",
    "z = False\n",
    "pi = 3.14\n",
    "\n",
    "a: int = 5\n",
    "b: str = \"My Typed Variable\"\n",
    "c: bool = True\n",
    "e: float = 2.718"
   ]
  },
  {
   "cell_type": "markdown",
   "metadata": {},
   "source": [
    "Here are more advanced data types that are built directly into python.\n",
    "\n",
    "Tuples are cool because of caching!"
   ]
  },
  {
   "cell_type": "code",
   "execution_count": null,
   "metadata": {},
   "outputs": [],
   "source": [
    "my_list = [10, 20, 30]\n",
    "my_dictionary = {\n",
    "    \"Key 1\": \"Value 1\",\n",
    "    \"Key 2\": \"Value 2\",\n",
    "    }\n",
    "my_tuple = (1.11, 2.22, 3.33)"
   ]
  },
  {
   "cell_type": "markdown",
   "metadata": {},
   "source": [
    "Elementary I/O\n",
    "\n",
    "format strings (f-strings)"
   ]
  },
  {
   "cell_type": "code",
   "execution_count": null,
   "metadata": {},
   "outputs": [],
   "source": [
    "print(\"This is a print statement!\")\n",
    "input(\"I am asking the user to type something then press enter \")\n",
    "\n",
    "user_input = input(\"I save what the user types by assigning it to a variable: \")\n",
    "print(\"Doing some calculations...\")\n",
    "print(f\"The result of the calcualtions are: {user_input}\")"
   ]
  },
  {
   "cell_type": "markdown",
   "metadata": {},
   "source": [
    "Flow control examples. Talk about how indentation must be strictly followed here."
   ]
  },
  {
   "cell_type": "code",
   "execution_count": null,
   "metadata": {},
   "outputs": [],
   "source": [
    "for i in range(10):\n",
    "    print(i)\n",
    "print(\"for-loop completed!\")\n",
    "\n",
    "my_control_variable = 15\n",
    "while my_control_variable > 0:\n",
    "    print(my_control_variable)\n",
    "    my_control_variable -= 1\n",
    "print(\"while loop completed\")"
   ]
  },
  {
   "cell_type": "markdown",
   "metadata": {},
   "source": [
    "Functions are cool"
   ]
  },
  {
   "cell_type": "code",
   "execution_count": null,
   "metadata": {},
   "outputs": [],
   "source": [
    "def append_fizz(text: str):\n",
    "    text += \"fizz\"\n",
    "\n",
    "first_string = \"fizz\"\n",
    "second_string = \"buzz\"\n",
    "user_string = input(\"Call append_fizz() on: \")\n",
    "\n",
    "print(append_fizz(first_string))\n",
    "print(append_fizz(second_string))\n",
    "print(append_fizz(user_string))"
   ]
  },
  {
   "cell_type": "markdown",
   "metadata": {},
   "source": [
    "### Classes and Objects\n",
    "\n",
    "talk about the init() function, the `self` parameter, and instance variables"
   ]
  },
  {
   "cell_type": "code",
   "execution_count": null,
   "metadata": {},
   "outputs": [],
   "source": [
    "class MyExampleClass:\n",
    "    def __init__(self):\n",
    "        self.my_instance_variable = 10\n",
    "        self.another_instance_variable = \"Instance String\"\n",
    "\n",
    "    def example_observer_method(self) -> int:\n",
    "        return self.my_instance_variable"
   ]
  },
  {
   "cell_type": "markdown",
   "metadata": {},
   "source": [
    "Create a simple object and do things with it"
   ]
  },
  {
   "cell_type": "code",
   "execution_count": null,
   "metadata": {},
   "outputs": [],
   "source": [
    "class Rectangle:\n",
    "    def __init__(self, \n",
    "                 height: float, \n",
    "                 width: float):\n",
    "        self.height = height\n",
    "        self.width = width\n",
    "        self.perimeter = ( 2 * height ) + ( 2 * width )\n",
    "        self.area = height * width\n",
    "\n",
    "    def get_height(self) -> float:\n",
    "        return self.height\n",
    "    \n",
    "    def get_width(self) -> float:\n",
    "        return self.width\n",
    "    \n",
    "    def get_perimeter(self):\n",
    "        # STUB, remove \"pass\"\n",
    "        pass\n",
    "    \n",
    "    def get_area(self):\n",
    "        # STUB, remove \"pass\"\n",
    "        pass"
   ]
  },
  {
   "cell_type": "markdown",
   "metadata": {},
   "source": [
    "You can do what you'd typically expect you can do with objects, including passing them to and from functions\n",
    "\n",
    "Don't worry about the import statemnet. It'll work for everyone and we'll talk about them later."
   ]
  },
  {
   "cell_type": "code",
   "execution_count": null,
   "metadata": {},
   "outputs": [],
   "source": [
    "import math\n",
    "\n",
    "rectangle_1: Rectangle = Rectangle(3, 4)\n",
    "rectangle_2: Rectangle = Rectangle(5, 12)\n",
    "\n",
    "def calc_diagonal(rectangle: Rectangle) -> float:\n",
    "    height = 0 # STUB, replace 0\n",
    "    width = 0 # STUB, replace 0\n",
    "\n",
    "    return math.sqrt( ( height ** 2 )  + ( width ** 2 ) )\n",
    "\n",
    "print(calc_diagonal(rectangle_1))\n",
    "print(calc_diagonal(rectangle_2))"
   ]
  },
  {
   "cell_type": "markdown",
   "metadata": {},
   "source": [
    "It is typical to have multiple files, each with a single object/class so other programmers can read and understand what you wrote"
   ]
  },
  {
   "cell_type": "markdown",
   "metadata": {},
   "source": [
    "### Libraries\n",
    "\n",
    "Thanks to the extensive community support, python has a vast suite of libraries which implement all sorts of functionality which allows python to be used in a variety of applications! This community support is one of the main reasons that it has become so popular!\n",
    "\n",
    "Python libraries can be written in languages other than python, including C, Rust, and C++.\n",
    "\n",
    "#### `requests` and Beautiful Soup (`bs4`)\n",
    "These two libraries are essential for getting and displaying data to and from websites."
   ]
  },
  {
   "cell_type": "code",
   "execution_count": null,
   "metadata": {},
   "outputs": [],
   "source": [
    "import requests\n",
    "\n",
    "sample_post_request = requests.post()\n",
    "\n",
    "sample_get_request = requests.get()\n",
    "\n",
    "import bs4\n",
    "\n",
    "# do things with bs4\n",
    "\n",
    "# scrape if there's colloquia today"
   ]
  },
  {
   "cell_type": "markdown",
   "metadata": {},
   "source": [
    "#### `statistics`\n",
    "\n",
    "The statistics library is very useful for business-oriented applications. It has tremendous functionality including being able to produce a linear regression and covariance."
   ]
  },
  {
   "cell_type": "code",
   "execution_count": null,
   "metadata": {},
   "outputs": [],
   "source": [
    "import statistics\n",
    "\n",
    "# insert cool statistics code here"
   ]
  },
  {
   "cell_type": "markdown",
   "metadata": {},
   "source": [
    "#### OpenCV (`cv2`)\n",
    "\n",
    "OpenCV is great for computer vision applications"
   ]
  },
  {
   "cell_type": "code",
   "execution_count": null,
   "metadata": {},
   "outputs": [],
   "source": [
    "import cv2\n",
    "\n",
    "# insert flashy images"
   ]
  },
  {
   "cell_type": "markdown",
   "metadata": {},
   "source": [
    "#### `numpy` and `matplotlib`\n",
    "\n",
    "A library essential for research applications. `numpy` provides support for high-order arrays and greatly optimizes large matrix operations. `matplotlib` works well with `numpy` and is used for visual representation of data."
   ]
  },
  {
   "cell_type": "code",
   "execution_count": null,
   "metadata": {},
   "outputs": [],
   "source": [
    "import numpy\n",
    "import matplotlib"
   ]
  },
  {
   "cell_type": "markdown",
   "metadata": {},
   "source": [
    "### Compilation vs. Interpretation\n",
    "\n",
    "talk about that here. I know nothing about this\n",
    "\n",
    "#### Compilation\n",
    "\n",
    "#### Interpretation\n",
    "\n",
    "#### Performance\n",
    "_for performance reasons_"
   ]
  },
  {
   "cell_type": "markdown",
   "metadata": {},
   "source": [
    "## Wrap-Up\n",
    "if you want us to continue these sessions, in either the same language or a different language, please let us know in a survey"
   ]
  }
 ],
 "metadata": {
  "language_info": {
   "name": "python"
  }
 },
 "nbformat": 4,
 "nbformat_minor": 2
}
