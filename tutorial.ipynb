{
 "cells": [
  {
   "cell_type": "markdown",
   "metadata": {},
   "source": [
    "# University of Scranton Association for Computing Machinery Student Chapter Python Programming Event\n",
    "\n",
    "## Table of Contents\n",
    "\n",
    "[Prerequisites](#prerequisites)\n",
    "\n",
    "[The Basics](#the-basics)\n",
    "\n",
    "[Classes and Objects](#classes-and-objects)\n",
    "\n",
    "[Libraries](#libraries)\n",
    "\n",
    "[Compilation vs. Interpretation](#compilation-vs-interpretation)\n",
    "\n",
    "## Background\n",
    "\n",
    "Python is an interpreted programming language, meaning that every line of any given file is read and immediately executed, as opposed to being compiled to an intermediate format before execution. It features numerous components of other modern programming languages including dynamic typing, high-level data types, object-orientation, and classes. Its simple syntax and numerous third party libraries are what make the language powerful and versatile.\n",
    "\n",
    "Duck programming\n",
    "\n",
    "Dropbox, Instagram, Spotify, and Reddit just to name a few\n",
    "\n",
    "Many builtins are written in C, which means you can expect C-like performance when you run your code (unless your code is slow)\n",
    "\n",
    "### Prerequisites\n",
    "\n",
    "Python is a dynamically typed language that does the thing\n",
    "\n",
    "If you don't have python, you can download it for your system [here](https://www.python.org/downloads/). Python files are created and saved with the `.py` extension.\n",
    "We trust you can get it set up on your IDE of choice.\n",
    "\n",
    "This tutorial and solution files are available in [this GitHub repository](https://github.com/BernardScottIII/acm_python_event). \n",
    "\n",
    "^^ This should be displayed with GitHub Pages or other free static-website software!\n",
    "\n",
    "### The Basics\n",
    "\n",
    "#### Variables and Data Types\n",
    "\n",
    "Here is an example of primitive types.\n",
    "\n",
    "Doubles aren't a thing"
   ]
  },
  {
   "cell_type": "code",
   "execution_count": 2,
   "metadata": {},
   "outputs": [],
   "source": [
    "x = 10\n",
    "_argument_variable = \"My Variable\"\n",
    "variable_12345 = False\n",
    "3lectric_City = 3.14 # <- Invalid!"
   ]
  },
  {
   "cell_type": "markdown",
   "metadata": {},
   "source": [
    "Here are more advanced data types that are built directly into python.\n",
    "\n",
    "Tuples are cool because of caching!"
   ]
  },
  {
   "cell_type": "code",
   "execution_count": null,
   "metadata": {},
   "outputs": [],
   "source": [
    "my_list = [10, 20, 30]\n",
    "my_dictionary = {\n",
    "    \"Key 1\": \"Value 1\",\n",
    "    \"Key 2\": \"Value 2\",\n",
    "    }\n",
    "my_tuple = (1.11, 2.22, 3.33)"
   ]
  },
  {
   "cell_type": "markdown",
   "metadata": {},
   "source": [
    "#### Useful Type Conversions\n",
    "\n",
    "Python can't convert anything to anything, but here's some useful and conveinent conversions Python automatically takes care of"
   ]
  },
  {
   "cell_type": "code",
   "execution_count": null,
   "metadata": {},
   "outputs": [],
   "source": [
    "# insert code here"
   ]
  },
  {
   "cell_type": "markdown",
   "metadata": {},
   "source": [
    "#### Elementary I/O\n",
    "\n",
    "format strings (f-strings)"
   ]
  },
  {
   "cell_type": "code",
   "execution_count": null,
   "metadata": {},
   "outputs": [],
   "source": [
    "print(\"This is a print statement!\")\n",
    "input(\"I am asking the user to type something then press enter \")\n",
    "\n",
    "user_input = input(\"I save what the user types by assigning it to a variable: \")\n",
    "print(\"Doing some calculations...\")\n",
    "print(f\"The result of the calcualtions are: {user_input}\")"
   ]
  },
  {
   "cell_type": "markdown",
   "metadata": {},
   "source": [
    "#### Running a python program\n",
    "\n",
    "To run your python file, navigate to the directory the file is stored in, and simply type `python` _`filename`_`.py` and press enter.\n",
    "\n",
    "#### Flow Control\n",
    "\n",
    "Flow control examples. Talk about how indentation must be strictly followed here. best practice is to use 4 spaces"
   ]
  },
  {
   "cell_type": "code",
   "execution_count": null,
   "metadata": {},
   "outputs": [],
   "source": [
    "# Replace with a list\n",
    "for i in range(10):\n",
    "    print(i)\n",
    "print(\"for-loop completed!\")\n",
    "\n",
    "# introduce range, then list(range) then use range in a for loop\n",
    "# Python can create things which provide things to you in repeated calls\n",
    "\n",
    "my_control_variable = 15\n",
    "while my_control_variable > 0:\n",
    "    print(my_control_variable)\n",
    "    my_control_variable -= 1\n",
    "print(\"while loop completed\")"
   ]
  },
  {
   "cell_type": "markdown",
   "metadata": {},
   "source": [
    "#### Functions\n",
    "\n",
    "Functions are cool"
   ]
  },
  {
   "cell_type": "code",
   "execution_count": null,
   "metadata": {},
   "outputs": [],
   "source": [
    "def append_fizz(text: str):\n",
    "    text += \"fizz\"\n",
    "    return text\n",
    "\n",
    "first_string = \"fizz\"\n",
    "second_string = \"buzz\"\n",
    "user_string = input(\"Call append_fizz() on: \")\n",
    "\n",
    "print(append_fizz(first_string))\n",
    "print(append_fizz(second_string))\n",
    "print(append_fizz(user_string))"
   ]
  },
  {
   "cell_type": "markdown",
   "metadata": {},
   "source": [
    "#### Debugging/Troubleshooting with the terminal\n",
    "\n",
    "Useful note: you can quickly write and run python code in the terminal/cli by typing \"python\". After you enter that command, you'll be brought to a python editor completely within the terminal/command line interface!"
   ]
  },
  {
   "cell_type": "code",
   "execution_count": null,
   "metadata": {
    "vscode": {
     "languageId": "powershell"
    }
   },
   "outputs": [],
   "source": [
    "$ python\n",
    ">>>print(\"Hello Scranton!\")\n",
    "Hello Scranton!\n",
    ">>> ^Z # <- how to exit the editor\n",
    "$"
   ]
  },
  {
   "cell_type": "markdown",
   "metadata": {},
   "source": [
    "### Classes and Objects\n",
    "\n",
    "Objects are implemented in a similar fashion to Java, where one would create a class, ideally within its own `.py` file, for a single object. Every class contains a constructor, the `__init__()` function. This function must take the argument `self` to declare and instantiate instance variables. Assignment of instance variables takes place completely within the `__init__()` function. Python does not allow for the declaration of multiple constructors, (insert reasoning). However, you can supply default arguments to the lone constructor, which may or may not be used upon invoking the constructor.\n"
   ]
  },
  {
   "cell_type": "code",
   "execution_count": null,
   "metadata": {},
   "outputs": [],
   "source": [
    "# No need to copy! For illustration purposes only.\n",
    "\n",
    "class MyExampleClass:\n",
    "    def __init__(self):\n",
    "        self.my_instance_variable = 10\n",
    "        self.another_instance_variable = \"Instance String\"\n",
    "\n",
    "    def example_observer_method(self):\n",
    "        return self.my_instance_variable"
   ]
  },
  {
   "cell_type": "markdown",
   "metadata": {},
   "source": [
    "Create a simple object in a new file named `rectangle.py` and do things with it"
   ]
  },
  {
   "cell_type": "code",
   "execution_count": null,
   "metadata": {},
   "outputs": [],
   "source": [
    "class Rectangle:\n",
    "    def __init__(self, height, width):\n",
    "        self.height = height\n",
    "        self.width = width\n",
    "        self.perimeter = ( 2 * height ) + ( 2 * width )\n",
    "        self.area = height * width\n",
    "\n",
    "    def get_height(self):\n",
    "        return self.height\n",
    "    \n",
    "    def get_width(self):\n",
    "        return self.width\n",
    "    \n",
    "    def get_perimeter(self):\n",
    "        # STUB\n",
    "    \n",
    "    def get_area(self):\n",
    "        # STUB"
   ]
  },
  {
   "cell_type": "markdown",
   "metadata": {},
   "source": [
    "You can do what you'd typically expect you can do with objects, including passing them to and from functions"
   ]
  },
  {
   "cell_type": "code",
   "execution_count": null,
   "metadata": {},
   "outputs": [],
   "source": [
    "import math\n",
    "\n",
    "rectangle_1: Rectangle = Rectangle(3, 4)\n",
    "rectangle_2: Rectangle = Rectangle(5, 12)\n",
    "\n",
    "def calc_diagonal(rectangle: Rectangle):\n",
    "    height = # STUB\n",
    "    width = # STUB\n",
    "\n",
    "    return math.sqrt( ( height ** 2 )  + ( width ** 2 ) )\n",
    "\n",
    "print(calc_diagonal(rectangle_1))\n",
    "print(calc_diagonal(rectangle_2))"
   ]
  },
  {
   "cell_type": "markdown",
   "metadata": {},
   "source": [
    "It is typical to have multiple files, each with a single object/class so other programmers can read and understand what you wrote\n",
    "\n",
    "### Libraries\n",
    "\n",
    "Thanks to the extensive community support, python has a vast suite of libraries which implement all sorts of functionality which allows python to be used in a variety of applications! This community support is one of the main reasons that it has become so popular!\n",
    "\n",
    "Python libraries can be written in languages other than python, including C, Rust, and C++.\n",
    "\n",
    "Since many popular libraries are created by third parties, they are not installed automatically with your installation of python. If you installed python from [python.org](https://www.python.org/downloads/), then `pip` (Preffered Installer Program) will be installed with python. `pip` can install packages from `PyPI` (The Python Package Index), where most third-party packages are available.\n",
    "\n",
    "Mention Anaconda python distro and Conda package manager\n",
    "\n",
    "To install your first packages, run these two commands in your terminal/cli!"
   ]
  },
  {
   "cell_type": "code",
   "execution_count": null,
   "metadata": {
    "vscode": {
     "languageId": "powershell"
    }
   },
   "outputs": [],
   "source": [
    "$ pip install requests\n",
    "$ pip install beautifulsoup4"
   ]
  },
  {
   "cell_type": "markdown",
   "metadata": {},
   "source": [
    "#### `requests` and Beautiful Soup (`bs4`)\n",
    "These two libraries are essential for getting and displaying data to and from websites."
   ]
  },
  {
   "cell_type": "code",
   "execution_count": null,
   "metadata": {},
   "outputs": [],
   "source": [
    "import requests\n",
    "\n",
    "us_debt_apr = requests.get(\"https://api.fiscaldata.treasury.gov/services/api/fiscal_service/v2/accounting/od/debt_to_penny?fields=record_calendar_year,record_calendar_month,record_calendar_day,tot_pub_debt_out_amt&filter=record_calendar_year:eq:2024,record_calendar_month:eq:04&sort=-record_calendar_day\")\n",
    "\n",
    "print(us_debt_apr)\n",
    "print(us_debt_apr.json())\n",
    "print(us_debt_apr.json()[\"data\"])\n",
    "print(us_debt_apr.json()[\"data\"][0])\n",
    "print(us_debt_apr.json()[\"data\"][0][\"tot_pub_debt_out_amt\"])\n",
    "\n",
    "from bs4 import BeautifulSoup\n",
    "\n",
    "response = requests.get(\"https://en.wikipedia.org/wiki/Web_scraping\")\n",
    "\n",
    "print(response.content)\n",
    "\n",
    "soup = BeautifulSoup(response.content, \"html.parser\")\n",
    "\n",
    "print(soup.title)"
   ]
  },
  {
   "cell_type": "markdown",
   "metadata": {},
   "source": [
    "_If you're interested in working with fiscal data from the U.S. Treasury, refer to the API documentation [here](https://fiscaldata.treasury.gov/api-documentation/)._\n",
    "\n",
    "#### `statistics`\n",
    "\n",
    "`Standard library, no download necessary!`\n",
    "\n",
    "The statistics library is very useful for business-oriented applications. It has tremendous functionality including being able to produce a linear regression and covariance."
   ]
  },
  {
   "cell_type": "code",
   "execution_count": null,
   "metadata": {},
   "outputs": [],
   "source": [
    "import statistics\n",
    "\n",
    "# put this data in a csv\n",
    "# use zip()\n",
    "\n",
    "us_debt = requests.get(\"https://api.fiscaldata.treasury.gov/services/api/fiscal_service/v2/accounting/od/debt_to_penny?fields=record_calendar_year,record_calendar_month,record_calendar_day,tot_pub_debt_out_amt&sort=-record_calendar_day\")\n",
    "\n",
    "debt_vals = []\n",
    "\n",
    "for month in us_debt.json()[\"data\"]:\n",
    "    debt_vals.append(float(month[\"tot_pub_debt_out_amt\"]))\n",
    "\n",
    "print(debt_vals)\n",
    "print(statistics.mean(debt_vals))\n",
    "print(statistics.stdev(debt_vals))"
   ]
  },
  {
   "cell_type": "markdown",
   "metadata": {},
   "source": [
    "#### `numpy` and `matplotlib`"
   ]
  },
  {
   "cell_type": "code",
   "execution_count": null,
   "metadata": {
    "vscode": {
     "languageId": "powershell"
    }
   },
   "outputs": [],
   "source": [
    "$ pip install numpy\n",
    "$ pip install matplotlib"
   ]
  },
  {
   "cell_type": "markdown",
   "metadata": {},
   "source": [
    "Two libraries essential for research applications. `numpy` provides support for high-order arrays and greatly optimizes large matrix operations. `matplotlib` works well with `numpy` and is used for visual representation of data."
   ]
  },
  {
   "cell_type": "code",
   "execution_count": null,
   "metadata": {},
   "outputs": [],
   "source": [
    "import numpy as np\n",
    "import matplotlib.pyplot as plt\n",
    "\n",
    "time = np.arange(len(debt_vals))\n",
    "\n",
    "# print(time)\n",
    "\n",
    "slope, intercept = np.polyfit(time,debt_vals,1)\n",
    "\n",
    "# print(slope, intercept)\n",
    "\n",
    "poly1d_fn = np.poly1d((slope, intercept)) \n",
    "\n",
    "plt.plot(time, debt_vals,'bo',poly1d_fn(time), '--k')"
   ]
  },
  {
   "cell_type": "markdown",
   "metadata": {},
   "source": [
    "### Compilation vs. Interpretation\n",
    "\n",
    "talk about that here. I know nothing about this\n",
    "\n",
    "#### Compilation\n",
    "\n",
    "#### Interpretation\n",
    "\n",
    "#### Performance\n",
    "_for performance reasons_\n",
    "\n",
    "## Wrap-Up\n",
    "if you want us to continue these sessions, in either the same language or a different language, please let us know in a survey"
   ]
  }
 ],
 "metadata": {
  "kernelspec": {
   "display_name": "Python 3",
   "language": "python",
   "name": "python3"
  },
  "language_info": {
   "codemirror_mode": {
    "name": "ipython",
    "version": 3
   },
   "file_extension": ".py",
   "mimetype": "text/x-python",
   "name": "python",
   "nbconvert_exporter": "python",
   "pygments_lexer": "ipython3",
   "version": "3.11.4"
  }
 },
 "nbformat": 4,
 "nbformat_minor": 2
}
